{
  "nbformat": 4,
  "nbformat_minor": 0,
  "metadata": {
    "colab": {
      "provenance": [],
      "authorship_tag": "ABX9TyNNGGw7hSUe5HSbPU850/Jy",
      "include_colab_link": true
    },
    "kernelspec": {
      "name": "python3",
      "display_name": "Python 3"
    },
    "language_info": {
      "name": "python"
    }
  },
  "cells": [
    {
      "cell_type": "markdown",
      "metadata": {
        "id": "view-in-github",
        "colab_type": "text"
      },
      "source": [
        "<a href=\"https://colab.research.google.com/github/A1shaa-ka/Aisha_2306015_UTS_KECERDASAN_BUATAN/blob/main/Soal1_UTS.ipynb\" target=\"_parent\"><img src=\"https://colab.research.google.com/assets/colab-badge.svg\" alt=\"Open In Colab\"/></a>"
      ]
    },
    {
      "cell_type": "code",
      "execution_count": null,
      "metadata": {
        "colab": {
          "base_uri": "https://localhost:8080/"
        },
        "id": "JTk6zwhTHVcS",
        "outputId": "6c5f5378-efcb-4341-874b-c3255b18946b"
      },
      "outputs": [
        {
          "output_type": "stream",
          "name": "stdout",
          "text": [
            "Collecting experta\n",
            "  Downloading experta-1.9.4-py3-none-any.whl.metadata (5.0 kB)\n",
            "Collecting frozendict==1.2 (from experta)\n",
            "  Downloading frozendict-1.2.tar.gz (2.6 kB)\n",
            "  Preparing metadata (setup.py) ... \u001b[?25l\u001b[?25hdone\n",
            "Collecting schema==0.6.7 (from experta)\n",
            "  Downloading schema-0.6.7-py2.py3-none-any.whl.metadata (14 kB)\n",
            "Downloading experta-1.9.4-py3-none-any.whl (35 kB)\n",
            "Downloading schema-0.6.7-py2.py3-none-any.whl (14 kB)\n",
            "Building wheels for collected packages: frozendict\n",
            "  Building wheel for frozendict (setup.py) ... \u001b[?25l\u001b[?25hdone\n",
            "  Created wheel for frozendict: filename=frozendict-1.2-py3-none-any.whl size=3149 sha256=df066babccc023a1b6859710a8c9d5a2a0a97a1b7e3173765377598b396fda6a\n",
            "  Stored in directory: /root/.cache/pip/wheels/49/ac/f8/cb8120244e710bdb479c86198b03c7b08c3c2d3d2bf448fd6e\n",
            "Successfully built frozendict\n",
            "Installing collected packages: schema, frozendict, experta\n",
            "  Attempting uninstall: frozendict\n",
            "    Found existing installation: frozendict 2.4.6\n",
            "    Uninstalling frozendict-2.4.6:\n",
            "      Successfully uninstalled frozendict-2.4.6\n",
            "\u001b[31mERROR: pip's dependency resolver does not currently take into account all the packages that are installed. This behaviour is the source of the following dependency conflicts.\n",
            "yfinance 0.2.55 requires frozendict>=2.3.4, but you have frozendict 1.2 which is incompatible.\u001b[0m\u001b[31m\n",
            "\u001b[0mSuccessfully installed experta-1.9.4 frozendict-1.2 schema-0.6.7\n"
          ]
        }
      ],
      "source": [
        "!pip install experta"
      ]
    },
    {
      "cell_type": "code",
      "source": [
        "!pip install --upgrade frozendict"
      ],
      "metadata": {
        "colab": {
          "base_uri": "https://localhost:8080/"
        },
        "id": "6jeVmkVdHujV",
        "outputId": "b80028d4-d572-4d06-f2f2-9fd4c48d0e52"
      },
      "execution_count": null,
      "outputs": [
        {
          "output_type": "stream",
          "name": "stdout",
          "text": [
            "Requirement already satisfied: frozendict in /usr/local/lib/python3.11/dist-packages (1.2)\n",
            "Collecting frozendict\n",
            "  Downloading frozendict-2.4.6-py311-none-any.whl.metadata (23 kB)\n",
            "Downloading frozendict-2.4.6-py311-none-any.whl (16 kB)\n",
            "Installing collected packages: frozendict\n",
            "  Attempting uninstall: frozendict\n",
            "    Found existing installation: frozendict 1.2\n",
            "    Uninstalling frozendict-1.2:\n",
            "      Successfully uninstalled frozendict-1.2\n",
            "\u001b[31mERROR: pip's dependency resolver does not currently take into account all the packages that are installed. This behaviour is the source of the following dependency conflicts.\n",
            "experta 1.9.4 requires frozendict==1.2, but you have frozendict 2.4.6 which is incompatible.\u001b[0m\u001b[31m\n",
            "\u001b[0mSuccessfully installed frozendict-2.4.6\n"
          ]
        }
      ]
    },
    {
      "cell_type": "code",
      "source": [
        "from experta import *\n",
        "class Diagnosis(KnowledgeEngine):\n",
        "\n",
        "    @Rule(Fact(daun_menguning=True))\n",
        "    def flu(self):\n",
        "      print(\"Diagnosis: Tanaman anda mungkin terkena kutu daun.\")\n",
        "\n",
        "    @Rule(Fact(bercak_hitam=True))\n",
        "    def pneumonia(self):\n",
        "      print(\"Diagnosis: Tanaman anda mungkin terkena jamur.\")\n",
        "\n",
        "    @Rule(Fact(berlubang=True))\n",
        "    def cold(self):\n",
        "      print(\"Diagnosis: Tanaman anda mungkin terkena ulat.\")\n",
        "\n",
        "    @Rule(Fact(layu=True))\n",
        "    def throat_infection(self):\n",
        "      print(\"Diagnosis: Tanaman anda mungkin terkena nematoda.\")\n",
        "\n",
        "    @Rule(Fact(daun_menguning=False) & Fact(bercak_hitam=False) & Fact(berlubang=False) & Fact(layu=False))\n",
        "    def healthy(self):\n",
        "      print(\"Diagnosis: Tanaman anda tidak terkena hama apapun.\")\n",
        "\n",
        "def get_input():\n",
        "    \"\"\"Helper function to get user input as boolean (yes/no).\"\"\"\n",
        "    def ask_question(question):\n",
        "        return input(question + \" (yes/no): \").strip().lower() == \"yes\"\n",
        "\n",
        "    return {\n",
        "         \"daun_menguning\": ask_question(\"Apakah tanaman anda daunnya menguning?\"),\n",
        "         \"bercak_hitam\": ask_question(\"Apakah tanaman anda memiliki bercak hitam?\"),\n",
        "         \"berlubang\": ask_question(\"Apakah tanaman anda berlubang?\"),\n",
        "         \"layu\": ask_question(\"Apakah tanaman anda layu?\")\n",
        "    }\n",
        "\n",
        "#Running the expert system\n",
        "if __name__ == \"__main__\":\n",
        "    symptoms = get_input()\n",
        "    engine = Diagnosis()\n",
        "    engine.reset() #Reset the knowledge engine\n",
        "\n",
        "    for symptom, present in symptoms.items():\n",
        "        engine.declare(Fact(**{symptom: present})) #Declare facts\n",
        "\n",
        "    engine.run() #Run the inference engine"
      ],
      "metadata": {
        "colab": {
          "base_uri": "https://localhost:8080/"
        },
        "id": "zNJof_veHziU",
        "outputId": "42890eb8-3162-48c7-c135-518845705ba2"
      },
      "execution_count": null,
      "outputs": [
        {
          "output_type": "stream",
          "name": "stdout",
          "text": [
            "Apakah tanaman anda daunnya menguning? (yes/no): no\n",
            "Apakah tanaman anda memiliki bercak hitam? (yes/no): no\n",
            "Apakah tanaman anda berlubang? (yes/no): no\n",
            "Apakah tanaman anda layu? (yes/no): no\n",
            "Diagnosis: Tanaman anda tidak terkena hama apapun.\n"
          ]
        }
      ]
    }
  ]
}